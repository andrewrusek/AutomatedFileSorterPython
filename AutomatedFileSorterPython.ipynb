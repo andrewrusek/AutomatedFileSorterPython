{
 "cells": [
  {
   "cell_type": "code",
   "execution_count": 39,
   "id": "66fb03b0",
   "metadata": {},
   "outputs": [],
   "source": [
    "# Automate the creation of folders and put all files in specific folders based on specified criteria"
   ]
  },
  {
   "cell_type": "code",
   "execution_count": 40,
   "id": "99e6f38c",
   "metadata": {},
   "outputs": [],
   "source": [
    "import os, shutil \n",
    "from datetime import datetime\n",
    "import exifread"
   ]
  },
  {
   "cell_type": "code",
   "execution_count": 31,
   "id": "5b9383c6",
   "metadata": {},
   "outputs": [
    {
     "name": "stdout",
     "output_type": "stream",
     "text": [
      "Collecting exifread\n",
      "  Downloading ExifRead-3.0.0-py3-none-any.whl (40 kB)\n",
      "     ---------------------------------------- 0.0/40.4 kB ? eta -:--:--\n",
      "     ---------- ----------------------------- 10.2/40.4 kB ? eta -:--:--\n",
      "     ---------------------------- --------- 30.7/40.4 kB 262.6 kB/s eta 0:00:01\n",
      "     -------------------------------------- 40.4/40.4 kB 277.0 kB/s eta 0:00:00\n",
      "Installing collected packages: exifread\n",
      "Successfully installed exifread-3.0.0\n",
      "Note: you may need to restart the kernel to use updated packages.\n"
     ]
    }
   ],
   "source": [
    "pip install exifread"
   ]
  },
  {
   "cell_type": "code",
   "execution_count": 17,
   "id": "3292ff95",
   "metadata": {},
   "outputs": [],
   "source": [
    "path_source = r'C:/Users/andre/Pictures/TravelGallery/'\n",
    "path_destination = r'C:/Users/andre/Pictures/TravelGallery/'"
   ]
  },
  {
   "cell_type": "code",
   "execution_count": 37,
   "id": "4557ed8f",
   "metadata": {},
   "outputs": [
    {
     "data": {
      "text/plain": [
       "['2022-04',\n",
       " '2022-05',\n",
       " 'heic files',\n",
       " 'IMG_1732.JPG',\n",
       " 'IMG_1816.JPG',\n",
       " 'IMG_1817.JPG',\n",
       " 'IMG_1881.JPG',\n",
       " 'IMG_1887.JPG',\n",
       " 'IMG_1888.JPG',\n",
       " 'IMG_1894.JPG']"
      ]
     },
     "execution_count": 37,
     "metadata": {},
     "output_type": "execute_result"
    }
   ],
   "source": [
    "os.listdir(path)"
   ]
  },
  {
   "cell_type": "code",
   "execution_count": 42,
   "id": "54937fbd",
   "metadata": {},
   "outputs": [
    {
     "name": "stdout",
     "output_type": "stream",
     "text": [
      "C:/Users/andre/Pictures/TravelGallery/jpg files\n"
     ]
    }
   ],
   "source": [
    "# Create folders to hold the sorted files\n",
    "file_name = os.listdir(path)\n",
    "\n",
    "folder_names = ['jpg files' , 'heic files' ]\n",
    "\n",
    "for loop in range (0,2):\n",
    "    if not os.path.exists(path + folder_names[loop]):\n",
    "        os.makedirs((path + folder_names[loop]))\n",
    "        print(path + folder_names[loop])\n",
    "\n"
   ]
  },
  {
   "cell_type": "code",
   "execution_count": 43,
   "id": "17cef75b",
   "metadata": {},
   "outputs": [],
   "source": [
    "# Sort files based on ending file extension\n",
    "for file in file_name:\n",
    "    if '.JPG' in file and not os.path.exists(path + 'jpg files/' + file):\n",
    "        shutil.move(path + file, path + 'jpg files/' + file)\n",
    "    elif'.HEIC' in file and not os.path.exists(path + 'heic files/' + file):\n",
    "        shutil.move(path + file, path + 'heic files/' + file)"
   ]
  },
  {
   "cell_type": "code",
   "execution_count": 41,
   "id": "e1803733",
   "metadata": {},
   "outputs": [],
   "source": [
    "# File extension sorting does not go far enough when wanting to sort pictures\n",
    "# Next step is to sort .JPG files based on date created "
   ]
  },
  {
   "cell_type": "code",
   "execution_count": 36,
   "id": "4738a3f8",
   "metadata": {},
   "outputs": [
    {
     "name": "stdout",
     "output_type": "stream",
     "text": [
      "Could not extract date taken for file: IMG_1732.JPG\n",
      "Could not extract date taken for file: IMG_1816.JPG\n",
      "Could not extract date taken for file: IMG_1817.JPG\n",
      "Could not extract date taken for file: IMG_1881.JPG\n",
      "Could not extract date taken for file: IMG_1887.JPG\n",
      "Could not extract date taken for file: IMG_1888.JPG\n",
      "Could not extract date taken for file: IMG_1894.JPG\n"
     ]
    }
   ],
   "source": [
    "def get_date_taken(file_path):\n",
    "    \"\"\"Extracts the date the image was taken.\"\"\"\n",
    "    with open(file_path, 'rb') as f:\n",
    "        tags = exifread.process_file(f, stop_tag='EXIF DateTimeOriginal')\n",
    "        if 'EXIF DateTimeOriginal' in tags:\n",
    "            date_taken = tags['EXIF DateTimeOriginal']\n",
    "            return datetime.strptime(str(date_taken), '%Y:%m:%d %H:%M:%S')\n",
    "    return None\n",
    "\n",
    "def sort_images_by_month(source_dir, destination_dir):\n",
    "    \"\"\"Sorts images in source directory into separate folders based on month.\"\"\"\n",
    "    for filename in os.listdir(source_dir):\n",
    "        if filename.endswith('.JPG'):\n",
    "            file_path = os.path.join(source_dir, filename)\n",
    "            date_taken = get_date_taken(file_path)\n",
    "            if date_taken:\n",
    "                month_folder = os.path.join(destination_dir, date_taken.strftime('%Y-%m'))\n",
    "                os.makedirs(month_folder, exist_ok=True)\n",
    "                shutil.move(file_path, os.path.join(month_folder, filename))\n",
    "            else:\n",
    "                print(f\"Could not extract date taken for file: {filename}\")\n",
    "\n",
    "if __name__ == \"__main__\":\n",
    "    source_directory = \"C:/Users/andre/Pictures/TravelGallery/\"\n",
    "    destination_directory = \"C:/Users/andre/Pictures/TravelGallery/\"\n",
    "\n",
    "    sort_images_by_month(source_directory, destination_directory)"
   ]
  },
  {
   "cell_type": "code",
   "execution_count": 44,
   "id": "24e66268",
   "metadata": {},
   "outputs": [
    {
     "data": {
      "text/plain": [
       "['2022-04', '2022-05', 'heic files', 'jpg files']"
      ]
     },
     "execution_count": 44,
     "metadata": {},
     "output_type": "execute_result"
    }
   ],
   "source": [
    "os.listdir(path)"
   ]
  },
  {
   "cell_type": "code",
   "execution_count": null,
   "id": "84bad684",
   "metadata": {},
   "outputs": [],
   "source": []
  }
 ],
 "metadata": {
  "kernelspec": {
   "display_name": "Python 3 (ipykernel)",
   "language": "python",
   "name": "python3"
  },
  "language_info": {
   "codemirror_mode": {
    "name": "ipython",
    "version": 3
   },
   "file_extension": ".py",
   "mimetype": "text/x-python",
   "name": "python",
   "nbconvert_exporter": "python",
   "pygments_lexer": "ipython3",
   "version": "3.11.5"
  }
 },
 "nbformat": 4,
 "nbformat_minor": 5
}
